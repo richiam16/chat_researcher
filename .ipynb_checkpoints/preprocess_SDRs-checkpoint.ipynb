{
 "cells": [
  {
   "cell_type": "markdown",
   "id": "4e62423c-4a97-43a0-90a4-541ed9fb0660",
   "metadata": {},
   "source": [
    "Get table of annotated SDRs. Our goal is to systematically find papers for experimentally annotated SDRs"
   ]
  },
  {
   "cell_type": "code",
   "execution_count": 1,
   "id": "6bc6e55b-e371-460c-94a6-14b14880a3c2",
   "metadata": {},
   "outputs": [],
   "source": [
    "import pandas as pd\n",
    "import os"
   ]
  },
  {
   "cell_type": "code",
   "execution_count": 12,
   "id": "a993faa6-f55f-4898-8245-145f446cfe3d",
   "metadata": {},
   "outputs": [
    {
     "data": {
      "text/html": [
       "<div>\n",
       "<style scoped>\n",
       "    .dataframe tbody tr th:only-of-type {\n",
       "        vertical-align: middle;\n",
       "    }\n",
       "\n",
       "    .dataframe tbody tr th {\n",
       "        vertical-align: top;\n",
       "    }\n",
       "\n",
       "    .dataframe thead th {\n",
       "        text-align: right;\n",
       "    }\n",
       "</style>\n",
       "<table border=\"1\" class=\"dataframe\">\n",
       "  <thead>\n",
       "    <tr style=\"text-align: right;\">\n",
       "      <th></th>\n",
       "      <th>Entry</th>\n",
       "      <th>Reviewed</th>\n",
       "      <th>Entry Name</th>\n",
       "      <th>Protein names</th>\n",
       "      <th>Gene Names</th>\n",
       "      <th>Organism</th>\n",
       "      <th>Length</th>\n",
       "      <th>PubMed ID</th>\n",
       "      <th>Annotation</th>\n",
       "    </tr>\n",
       "  </thead>\n",
       "  <tbody>\n",
       "    <tr>\n",
       "      <th>0</th>\n",
       "      <td>A0A1U8QWA2</td>\n",
       "      <td>reviewed</td>\n",
       "      <td>ATR12_EMENI</td>\n",
       "      <td>Glycine betaine reductase ATRR (Nonribosomal p...</td>\n",
       "      <td>ATRR AN5318 ANIA_05318</td>\n",
       "      <td>Emericella nidulans (strain FGSC A4 / ATCC 381...</td>\n",
       "      <td>1270</td>\n",
       "      <td>16372000; 19146970; 31061132</td>\n",
       "      <td>5.0</td>\n",
       "    </tr>\n",
       "    <tr>\n",
       "      <th>1</th>\n",
       "      <td>A0A3Q8GL18</td>\n",
       "      <td>reviewed</td>\n",
       "      <td>NEPS1_NEPRA</td>\n",
       "      <td>(+)-cis,trans-nepetalactol synthase NEPS1 (EC ...</td>\n",
       "      <td>NEPS1</td>\n",
       "      <td>Nepeta racemosa (Catmint) (Raceme catnip)</td>\n",
       "      <td>271</td>\n",
       "      <td>30531909; 30664302</td>\n",
       "      <td>5.0</td>\n",
       "    </tr>\n",
       "    <tr>\n",
       "      <th>2</th>\n",
       "      <td>A0QYC2</td>\n",
       "      <td>reviewed</td>\n",
       "      <td>DTHD_MYCS2</td>\n",
       "      <td>D-threitol dehydrogenase (EC 1.1.1.403)</td>\n",
       "      <td>dthD MSMEG_3607 MSMEI_3523</td>\n",
       "      <td>Mycolicibacterium smegmatis (strain ATCC 70008...</td>\n",
       "      <td>260</td>\n",
       "      <td>17295914; 18955433; 26560079</td>\n",
       "      <td>5.0</td>\n",
       "    </tr>\n",
       "    <tr>\n",
       "      <th>3</th>\n",
       "      <td>A2RVM0</td>\n",
       "      <td>reviewed</td>\n",
       "      <td>TIC32_ARATH</td>\n",
       "      <td>Short-chain dehydrogenase TIC 32, chloroplasti...</td>\n",
       "      <td>TIC32 At4g23430 F16G20.130</td>\n",
       "      <td>Arabidopsis thaliana (Mouse-ear cress)</td>\n",
       "      <td>322</td>\n",
       "      <td>10617198; 27862469; 15033972; 15180984; 20100520</td>\n",
       "      <td>5.0</td>\n",
       "    </tr>\n",
       "    <tr>\n",
       "      <th>4</th>\n",
       "      <td>A4ECA9</td>\n",
       "      <td>reviewed</td>\n",
       "      <td>HSDHB_COLAA</td>\n",
       "      <td>7beta-hydroxysteroid dehydrogenase (7beta-HSDH...</td>\n",
       "      <td>COLAER_02088</td>\n",
       "      <td>Collinsella aerofaciens (strain ATCC 25986 / D...</td>\n",
       "      <td>263</td>\n",
       "      <td>6954878; 21181147; 27006087; 28471355</td>\n",
       "      <td>5.0</td>\n",
       "    </tr>\n",
       "  </tbody>\n",
       "</table>\n",
       "</div>"
      ],
      "text/plain": [
       "        Entry  Reviewed   Entry Name  \\\n",
       "0  A0A1U8QWA2  reviewed  ATR12_EMENI   \n",
       "1  A0A3Q8GL18  reviewed  NEPS1_NEPRA   \n",
       "2      A0QYC2  reviewed   DTHD_MYCS2   \n",
       "3      A2RVM0  reviewed  TIC32_ARATH   \n",
       "4      A4ECA9  reviewed  HSDHB_COLAA   \n",
       "\n",
       "                                       Protein names  \\\n",
       "0  Glycine betaine reductase ATRR (Nonribosomal p...   \n",
       "1  (+)-cis,trans-nepetalactol synthase NEPS1 (EC ...   \n",
       "2            D-threitol dehydrogenase (EC 1.1.1.403)   \n",
       "3  Short-chain dehydrogenase TIC 32, chloroplasti...   \n",
       "4  7beta-hydroxysteroid dehydrogenase (7beta-HSDH...   \n",
       "\n",
       "                   Gene Names  \\\n",
       "0      ATRR AN5318 ANIA_05318   \n",
       "1                       NEPS1   \n",
       "2  dthD MSMEG_3607 MSMEI_3523   \n",
       "3  TIC32 At4g23430 F16G20.130   \n",
       "4                COLAER_02088   \n",
       "\n",
       "                                            Organism  Length  \\\n",
       "0  Emericella nidulans (strain FGSC A4 / ATCC 381...    1270   \n",
       "1          Nepeta racemosa (Catmint) (Raceme catnip)     271   \n",
       "2  Mycolicibacterium smegmatis (strain ATCC 70008...     260   \n",
       "3             Arabidopsis thaliana (Mouse-ear cress)     322   \n",
       "4  Collinsella aerofaciens (strain ATCC 25986 / D...     263   \n",
       "\n",
       "                                          PubMed ID  Annotation  \n",
       "0                      16372000; 19146970; 31061132         5.0  \n",
       "1                                30531909; 30664302         5.0  \n",
       "2                      17295914; 18955433; 26560079         5.0  \n",
       "3  10617198; 27862469; 15033972; 15180984; 20100520         5.0  \n",
       "4             6954878; 21181147; 27006087; 28471355         5.0  "
      ]
     },
     "execution_count": 12,
     "metadata": {},
     "output_type": "execute_result"
    }
   ],
   "source": [
    "fn = '../data/swissprot_ipr002347.tsv'\n",
    "df = pd.read_csv(fn, sep = '\\t')\n",
    "df.dropna(subset=['PubMed ID'], inplace=True)\n",
    "df.head()"
   ]
  },
  {
   "cell_type": "code",
   "execution_count": 19,
   "id": "3816c90e-dc0b-4e63-a665-3570bb6a19a7",
   "metadata": {},
   "outputs": [
    {
     "data": {
      "text/plain": [
       "(1053, 9)"
      ]
     },
     "execution_count": 19,
     "metadata": {},
     "output_type": "execute_result"
    }
   ],
   "source": [
    "df.shape"
   ]
  },
  {
   "cell_type": "code",
   "execution_count": 24,
   "id": "33aab5b7-abbe-40e0-9ec3-8ed8944db5e9",
   "metadata": {},
   "outputs": [
    {
     "data": {
      "text/plain": [
       "(227, 9)"
      ]
     },
     "execution_count": 24,
     "metadata": {},
     "output_type": "execute_result"
    }
   ],
   "source": [
    "df5 = df[df.Annotation==5].copy()\n",
    "df5.shape"
   ]
  },
  {
   "cell_type": "code",
   "execution_count": 25,
   "id": "3c34e970-58fd-440f-b908-c09f8b7eab95",
   "metadata": {},
   "outputs": [],
   "source": [
    "list_pm_all = []\n",
    "for list_pm in df5['PubMed ID'].tolist():\n",
    "    list_pm_clean = [pm.strip() for pm in list_pm.split(';')] \n",
    "    list_pm_all += list_pm_clean"
   ]
  },
  {
   "cell_type": "code",
   "execution_count": 27,
   "id": "8e9a05ff-f2ef-45ed-90f9-b5ee7d0aa5f8",
   "metadata": {},
   "outputs": [
    {
     "data": {
      "text/plain": [
       "1465"
      ]
     },
     "execution_count": 27,
     "metadata": {},
     "output_type": "execute_result"
    }
   ],
   "source": [
    "len(list_pm_all)"
   ]
  },
  {
   "cell_type": "code",
   "execution_count": 58,
   "id": "127da6f8-ef3c-42c4-9ca9-478700893d35",
   "metadata": {},
   "outputs": [],
   "source": [
    "list_test = list_pm_all[100:200]\n",
    "fn_pmid = '../data/pmid_names.txt'\n",
    "with open(fn_pmid, 'w') as fout:\n",
    "    for pmid in list_test:\n",
    "        fout.write(pmid+'\\n')\n",
    "        "
   ]
  },
  {
   "cell_type": "code",
   "execution_count": 59,
   "id": "5be6ff65-731c-4036-bbee-efa917cd6504",
   "metadata": {},
   "outputs": [
    {
     "name": "stdout",
     "output_type": "stream",
     "text": [
      "2023-05-29 22:34:49,255 - INFO - pubmed2pdf.cli - Trying to fetch pmid 21980284\n",
      "2023-05-29 22:34:53,542 - INFO - pubmed2pdf.cli - Trying to fetch pmid 33826843\n",
      "2023-05-29 22:34:54,306 - INFO - pubmed2pdf.cli - Trying to fetch pmid 9188497\n",
      "2023-05-29 22:34:56,384 - INFO - pubmed2pdf.cli - Trying to fetch pmid 15489334\n",
      "2023-05-29 22:34:56,384 - INFO - pubmed2pdf.cli - Trying to fetch pmid 9407098\n",
      "2023-05-29 22:34:58,315 - INFO - pubmed2pdf.cli - Trying to fetch pmid 19468303\n",
      "2023-05-29 22:35:10,055 - INFO - pubmed2pdf.cli - Trying to fetch pmid 15489334\n",
      "2023-05-29 22:35:10,056 - INFO - pubmed2pdf.cli - Trying to fetch pmid 11279029\n",
      "2023-05-29 22:35:16,929 - INFO - pubmed2pdf.cli - Trying to fetch pmid 15355969\n",
      "2023-05-29 22:35:18,559 - INFO - pubmed2pdf.cli - Trying to fetch pmid 16223484\n",
      "2023-05-29 22:35:24,218 - INFO - pubmed2pdf.cli - Trying to fetch pmid 21183079\n",
      "2023-05-29 22:35:25,225 - INFO - pubmed2pdf.cli - Trying to fetch pmid 9654122\n",
      "2023-05-29 22:35:30,914 - INFO - pubmed2pdf.cli - Trying to fetch pmid 9539749\n",
      "2023-05-29 22:35:31,722 - INFO - pubmed2pdf.cli - Trying to fetch pmid 10588954\n",
      "2023-05-29 22:35:33,745 - INFO - pubmed2pdf.cli - Trying to fetch pmid 16141072\n",
      "2023-05-29 22:35:34,136 - INFO - pubmed2pdf.cli - Trying to fetch pmid 19468303\n",
      "2023-05-29 22:35:34,136 - INFO - pubmed2pdf.cli - Trying to fetch pmid 15489334\n",
      "2023-05-29 22:35:34,136 - INFO - pubmed2pdf.cli - Trying to fetch pmid 10739682\n",
      "2023-05-29 22:35:34,763 - INFO - pubmed2pdf.cli - Trying to fetch pmid 10825191\n",
      "2023-05-29 22:35:35,284 - INFO - pubmed2pdf.cli - Trying to fetch pmid 11279029\n",
      "2023-05-29 22:35:36,708 - INFO - pubmed2pdf.cli - Trying to fetch pmid 16223484\n",
      "2023-05-29 22:35:38,344 - INFO - pubmed2pdf.cli - Trying to fetch pmid 11023795\n",
      "2023-05-29 22:35:39,002 - INFO - pubmed2pdf.cli - Trying to fetch pmid 16141072\n",
      "2023-05-29 22:35:39,560 - INFO - pubmed2pdf.cli - Trying to fetch pmid 15489334\n",
      "2023-05-29 22:35:39,560 - INFO - pubmed2pdf.cli - Trying to fetch pmid 12482854\n",
      "2023-05-29 22:35:41,774 - INFO - pubmed2pdf.cli - Trying to fetch pmid 21183079\n",
      "2023-05-29 22:35:43,640 - INFO - pubmed2pdf.cli - Trying to fetch pmid 9677409\n",
      "2023-05-29 22:35:45,004 - INFO - pubmed2pdf.cli - Trying to fetch pmid 10329026\n",
      "2023-05-29 22:35:45,731 - INFO - pubmed2pdf.cli - Trying to fetch pmid 11967490\n",
      "2023-05-29 22:35:46,267 - INFO - pubmed2pdf.cli - Trying to fetch pmid 12534290\n",
      "2023-05-29 22:35:46,960 - INFO - pubmed2pdf.cli - Trying to fetch pmid 19027726\n",
      "2023-05-29 22:35:48,924 - INFO - pubmed2pdf.cli - Trying to fetch pmid 24275569\n",
      "2023-05-29 22:35:49,502 - INFO - pubmed2pdf.cli - Trying to fetch pmid 29541409\n",
      "2023-05-29 22:36:35,503 - INFO - pubmed2pdf.cli - Trying to fetch pmid 9740676\n",
      "2023-05-29 22:36:36,218 - INFO - pubmed2pdf.cli - Trying to fetch pmid 10830953\n",
      "2023-05-29 22:36:45,711 - INFO - pubmed2pdf.cli - Trying to fetch pmid 15489334\n",
      "2023-05-29 22:36:51,654 - INFO - pubmed2pdf.cli - Trying to fetch pmid 15537833\n",
      "2023-05-29 22:36:58,382 - INFO - pubmed2pdf.cli - Trying to fetch pmid 18493841\n",
      "2023-05-29 22:37:05,637 - INFO - pubmed2pdf.cli - Trying to fetch pmid 19841672\n",
      "2023-05-29 22:37:10,031 - INFO - pubmed2pdf.cli - Trying to fetch pmid 21269460\n",
      "2023-05-29 22:37:27,304 - INFO - pubmed2pdf.cli - Trying to fetch pmid 9705317\n",
      "2023-05-29 22:37:28,795 - INFO - pubmed2pdf.cli - Trying to fetch pmid 12975309\n",
      "2023-05-29 22:37:34,198 - INFO - pubmed2pdf.cli - Trying to fetch pmid 14702039\n",
      "2023-05-29 22:37:40,351 - INFO - pubmed2pdf.cli - Trying to fetch pmid 17974005\n",
      "2023-05-29 22:38:04,281 - INFO - pubmed2pdf.cli - Trying to fetch pmid 16710414\n",
      "2023-05-29 22:38:11,019 - INFO - pubmed2pdf.cli - Trying to fetch pmid 15489334\n",
      "2023-05-29 22:38:11,019 - INFO - pubmed2pdf.cli - Trying to fetch pmid 11861404\n",
      "2023-05-29 22:38:12,211 - INFO - pubmed2pdf.cli - Trying to fetch pmid 24275569\n",
      "2023-05-29 22:38:17,908 - INFO - pubmed2pdf.cli - Trying to fetch pmid 10822012\n",
      "2023-05-29 22:38:18,706 - INFO - pubmed2pdf.cli - Trying to fetch pmid 12773125\n",
      "2023-05-29 22:38:22,610 - INFO - pubmed2pdf.cli - Trying to fetch pmid 17470521\n",
      "2023-05-29 22:38:26,888 - INFO - pubmed2pdf.cli - Trying to fetch pmid 26519454\n",
      "2023-05-29 22:38:31,568 - INFO - pubmed2pdf.cli - Trying to fetch pmid 9658408\n",
      "2023-05-29 22:38:40,052 - INFO - pubmed2pdf.cli - Trying to fetch pmid 16141072\n",
      "2023-05-29 22:38:40,368 - INFO - pubmed2pdf.cli - Trying to fetch pmid 15489334\n",
      "2023-05-29 22:38:40,368 - INFO - pubmed2pdf.cli - Trying to fetch pmid 21183079\n",
      "2023-05-29 22:38:41,438 - INFO - pubmed2pdf.cli - Trying to fetch pmid 12732193\n",
      "2023-05-29 22:38:42,270 - INFO - pubmed2pdf.cli - Trying to fetch pmid 12829805\n",
      "2023-05-29 22:38:48,311 - INFO - pubmed2pdf.cli - Trying to fetch pmid 18669642\n",
      "2023-05-29 22:38:54,469 - INFO - pubmed2pdf.cli - Trying to fetch pmid 20659585\n",
      "2023-05-29 22:38:56,129 - INFO - pubmed2pdf.cli - Trying to fetch pmid 9705317\n",
      "2023-05-29 22:38:57,585 - INFO - pubmed2pdf.cli - Trying to fetch pmid 9853961\n",
      "2023-05-29 22:38:58,032 - INFO - pubmed2pdf.cli - Trying to fetch pmid 16141072\n",
      "2023-05-29 22:38:58,440 - INFO - pubmed2pdf.cli - Trying to fetch pmid 15489334\n",
      "2023-05-29 22:38:58,440 - INFO - pubmed2pdf.cli - Trying to fetch pmid 21183079\n",
      "2023-05-29 22:38:59,228 - INFO - pubmed2pdf.cli - Trying to fetch pmid 6789320\n",
      "2023-05-29 22:38:59,874 - INFO - pubmed2pdf.cli - Trying to fetch pmid 6818527\n",
      "2023-05-29 22:39:04,146 - INFO - pubmed2pdf.cli - Trying to fetch pmid 6410283\n",
      "2023-05-29 22:39:09,110 - INFO - pubmed2pdf.cli - Trying to fetch pmid 3928896\n",
      "2023-05-29 22:39:09,869 - INFO - pubmed2pdf.cli - Trying to fetch pmid 3021568\n",
      "2023-05-29 22:39:18,850 - INFO - pubmed2pdf.cli - Trying to fetch pmid 3108863\n",
      "2023-05-29 22:39:23,051 - INFO - pubmed2pdf.cli - Trying to fetch pmid 3137352\n",
      "2023-05-29 22:39:23,963 - INFO - pubmed2pdf.cli - Trying to fetch pmid 2124644\n",
      "2023-05-29 22:39:33,058 - INFO - pubmed2pdf.cli - Trying to fetch pmid 1673107\n",
      "2023-05-29 22:39:58,752 - INFO - pubmed2pdf.cli - Trying to fetch pmid 1683848\n",
      "2023-05-29 22:40:14,056 - INFO - pubmed2pdf.cli - Trying to fetch pmid 7498745\n",
      "2023-05-29 22:40:40,313 - INFO - pubmed2pdf.cli - Trying to fetch pmid 10605124\n",
      "2023-05-29 22:40:43,661 - INFO - pubmed2pdf.cli - Trying to fetch pmid 10471707\n",
      "2023-05-29 22:40:52,312 - INFO - pubmed2pdf.cli - Trying to fetch pmid 10731132\n",
      "2023-05-29 22:40:53,321 - INFO - pubmed2pdf.cli - Trying to fetch pmid 12537572\n",
      "2023-05-29 22:41:01,335 - INFO - pubmed2pdf.cli - Trying to fetch pmid 12537569\n",
      "2023-05-29 22:41:03,139 - INFO - pubmed2pdf.cli - Trying to fetch pmid 115502\n",
      "2023-05-29 22:41:03,849 - INFO - pubmed2pdf.cli - Trying to fetch pmid 6821373\n",
      "2023-05-29 22:41:07,446 - INFO - pubmed2pdf.cli - Trying to fetch pmid 2419573\n",
      "2023-05-29 22:41:08,281 - INFO - pubmed2pdf.cli - Trying to fetch pmid 6780981\n",
      "2023-05-29 22:41:11,216 - INFO - pubmed2pdf.cli - Trying to fetch pmid 6789328\n",
      "2023-05-29 22:41:11,791 - INFO - pubmed2pdf.cli - Trying to fetch pmid 2108721\n",
      "2023-05-29 22:41:12,761 - INFO - pubmed2pdf.cli - Trying to fetch pmid 1505661\n",
      "2023-05-29 22:41:13,162 - INFO - pubmed2pdf.cli - Trying to fetch pmid 8461298\n",
      "2023-05-29 22:41:14,300 - INFO - pubmed2pdf.cli - Trying to fetch pmid 8454065\n",
      "2023-05-29 22:41:14,680 - INFO - pubmed2pdf.cli - Trying to fetch pmid 15581900\n",
      "2023-05-29 22:41:20,250 - INFO - pubmed2pdf.cli - Trying to fetch pmid 2376563\n",
      "2023-05-29 22:41:21,025 - INFO - pubmed2pdf.cli - Trying to fetch pmid 2834320\n",
      "2023-05-29 22:41:21,429 - INFO - pubmed2pdf.cli - Trying to fetch pmid 3549693\n",
      "2023-05-29 22:41:22,097 - INFO - pubmed2pdf.cli - Trying to fetch pmid 16299351\n",
      "2023-05-29 22:41:29,309 - INFO - pubmed2pdf.cli - Trying to fetch pmid 23836456\n",
      "2023-05-29 22:41:31,020 - INFO - pubmed2pdf.cli - Trying to fetch pmid 2455724\n",
      "2023-05-29 22:41:40,220 - INFO - pubmed2pdf.cli - Trying to fetch pmid 7705352\n",
      "2023-05-29 22:41:40,622 - INFO - pubmed2pdf.cli - Trying to fetch pmid 15489334\n",
      "2023-05-29 22:41:47,281 - INFO - pubmed2pdf.cli - Trying to fetch pmid 8040004\n",
      "Done downloading. All downloaded can be found in /home/ajinich/pubmed2pdf\n"
     ]
    }
   ],
   "source": [
    "!python3 -m pubmed2pdf pdf --pmidsfile=\"../data/pmid_names.txt\""
   ]
  },
  {
   "cell_type": "code",
   "execution_count": 52,
   "id": "073add28-db11-4c05-a7b8-0c95ec87516c",
   "metadata": {},
   "outputs": [],
   "source": [
    "pmids = [line.strip().split() for line in open(fn_pmid)]"
   ]
  },
  {
   "cell_type": "code",
   "execution_count": 53,
   "id": "988c10d1-233e-41d0-8d5d-f3fda297fb0d",
   "metadata": {},
   "outputs": [],
   "source": [
    "# Get names if there are two columns\n",
    "if len(pmids[0]) == 1:\n",
    "    pmids = [\n",
    "        x[0]\n",
    "        for x in pmids\n",
    "    ]\n",
    "    names = pmids\n",
    "\n",
    "else:\n",
    "    names = [x[1] for x in pmids]\n",
    "    pmids = [x[0] for x in pmids]"
   ]
  },
  {
   "cell_type": "code",
   "execution_count": 54,
   "id": "b21bebd5-0bb2-4889-a05b-195623ee373a",
   "metadata": {},
   "outputs": [
    {
     "data": {
      "text/plain": [
       "['16372000',\n",
       " '19146970',\n",
       " '31061132',\n",
       " '30531909',\n",
       " '30664302',\n",
       " '17295914',\n",
       " '18955433',\n",
       " '26560079',\n",
       " '10617198',\n",
       " '27862469']"
      ]
     },
     "execution_count": 54,
     "metadata": {},
     "output_type": "execute_result"
    }
   ],
   "source": [
    "pmids"
   ]
  },
  {
   "cell_type": "code",
   "execution_count": null,
   "id": "1cd4aaf1-e33b-4deb-b66b-967fad34761d",
   "metadata": {},
   "outputs": [],
   "source": []
  }
 ],
 "metadata": {
  "kernelspec": {
   "display_name": "Python 3 (ipykernel)",
   "language": "python",
   "name": "python3"
  },
  "language_info": {
   "codemirror_mode": {
    "name": "ipython",
    "version": 3
   },
   "file_extension": ".py",
   "mimetype": "text/x-python",
   "name": "python",
   "nbconvert_exporter": "python",
   "pygments_lexer": "ipython3",
   "version": "3.8.12"
  }
 },
 "nbformat": 4,
 "nbformat_minor": 5
}
